{
 "cells": [
  {
   "cell_type": "code",
   "execution_count": 5,
   "source": [
    "!pip install Bio"
   ],
   "outputs": [
    {
     "output_type": "stream",
     "name": "stdout",
     "text": [
      "Requirement already satisfied: Bio in /Users/uliaandreeva/opt/anaconda3/lib/python3.8/site-packages (1.4.0)\n",
      "Requirement already satisfied: mygene in /Users/uliaandreeva/opt/anaconda3/lib/python3.8/site-packages (from Bio) (3.2.2)\n",
      "Requirement already satisfied: requests in /Users/uliaandreeva/opt/anaconda3/lib/python3.8/site-packages (from Bio) (2.24.0)\n",
      "Requirement already satisfied: tqdm in /Users/uliaandreeva/opt/anaconda3/lib/python3.8/site-packages (from Bio) (4.50.2)\n",
      "Requirement already satisfied: biopython>=1.79 in /Users/uliaandreeva/opt/anaconda3/lib/python3.8/site-packages (from Bio) (1.79)\n",
      "Requirement already satisfied: numpy in /Users/uliaandreeva/opt/anaconda3/lib/python3.8/site-packages (from biopython>=1.79->Bio) (1.19.2)\n",
      "Requirement already satisfied: biothings-client>=0.2.6 in /Users/uliaandreeva/opt/anaconda3/lib/python3.8/site-packages (from mygene->Bio) (0.2.6)\n",
      "Requirement already satisfied: chardet<4,>=3.0.2 in /Users/uliaandreeva/opt/anaconda3/lib/python3.8/site-packages (from requests->Bio) (3.0.4)\n",
      "Requirement already satisfied: idna<3,>=2.5 in /Users/uliaandreeva/opt/anaconda3/lib/python3.8/site-packages (from requests->Bio) (2.10)\n",
      "Requirement already satisfied: certifi>=2017.4.17 in /Users/uliaandreeva/opt/anaconda3/lib/python3.8/site-packages (from requests->Bio) (2020.6.20)\n",
      "Requirement already satisfied: urllib3!=1.25.0,!=1.25.1,<1.26,>=1.21.1 in /Users/uliaandreeva/opt/anaconda3/lib/python3.8/site-packages (from requests->Bio) (1.25.11)\n",
      "\u001b[33mWARNING: You are using pip version 22.0.4; however, version 22.2.2 is available.\n",
      "You should consider upgrading via the '/Users/uliaandreeva/opt/anaconda3/bin/python -m pip install --upgrade pip' command.\u001b[0m\u001b[33m\n",
      "\u001b[0m"
     ]
    }
   ],
   "metadata": {}
  },
  {
   "cell_type": "code",
   "execution_count": 30,
   "source": [
    "from Bio import SeqIO\n",
    "import sys"
   ],
   "outputs": [],
   "metadata": {}
  },
  {
   "cell_type": "code",
   "execution_count": 31,
   "source": [
    "fasta_sequences = SeqIO.parse(open('data/Poil_contig.fa'),'fasta')\n",
    "with open('ata/Poil_contig.fa') as out_file:\n",
    "    for fasta in fasta_sequences:\n",
    "        name, sequence = fasta.id, str(fasta.seq)\n",
    "len(sequence)\n"
   ],
   "outputs": [
    {
     "output_type": "execute_result",
     "data": {
      "text/plain": [
       "22334"
      ]
     },
     "metadata": {},
     "execution_count": 31
    }
   ],
   "metadata": {}
  },
  {
   "cell_type": "code",
   "execution_count": 23,
   "source": [
    "def count(contigs):\n",
    "    answer = 0\n",
    "    for line in contigs:\n",
    "        if line[0] == '>':\n",
    "            answer += 1\n",
    "    return answer"
   ],
   "outputs": [],
   "metadata": {}
  },
  {
   "cell_type": "code",
   "execution_count": 16,
   "source": [
    "count(open('data/Poil_contig.fa', 'r'))"
   ],
   "outputs": [
    {
     "output_type": "execute_result",
     "data": {
      "text/plain": [
       "633"
      ]
     },
     "metadata": {},
     "execution_count": 16
    }
   ],
   "metadata": {}
  },
  {
   "cell_type": "code",
   "execution_count": 21,
   "source": [
    "FileIn = sys.argv[1]\n",
    "\n",
    "handle = open('/data/Poil_contig.fa', 'rU')\n",
    "SeqRecords = SeqIO.parse(handle, 'fasta')\n",
    "totalLenght = 0\n",
    "real_max = 0\n",
    "cur_max = 0\n",
    "for record in SeqRecords:   #loop through each fasta entry\n",
    "   length = len(record.seq)    #get sequence length\n",
    "   totalLenght += length\n",
    "   cur_max = length\n",
    "   if cur_max > real_max:\n",
    "      real_max = cur_max\n",
    "   #print(\"%s: %i bp\" % (record.id, length)) \n",
    "print(real_max)\n"
   ],
   "outputs": [
    {
     "output_type": "stream",
     "name": "stdout",
     "text": [
      "135077\n"
     ]
    },
    {
     "output_type": "stream",
     "name": "stderr",
     "text": [
      "<ipython-input-21-a715ebb58b14>:3: DeprecationWarning: 'U' mode is deprecated\n",
      "  handle = open('/Users/uliaandreeva/Downloads/nyc-taxi-trip-duration/data/Poil_contig.fa', 'rU')\n"
     ]
    }
   ],
   "metadata": {}
  },
  {
   "cell_type": "code",
   "execution_count": 19,
   "source": [
    "print(totalLenght)"
   ],
   "outputs": [
    {
     "output_type": "stream",
     "name": "stdout",
     "text": [
      "3926297\n"
     ]
    }
   ],
   "metadata": {}
  },
  {
   "cell_type": "code",
   "execution_count": 20,
   "source": [
    "count(open('/data/Poil_scaffold.fa', 'r'))"
   ],
   "outputs": [
    {
     "output_type": "execute_result",
     "data": {
      "text/plain": [
       "71"
      ]
     },
     "metadata": {},
     "execution_count": 20
    }
   ],
   "metadata": {}
  },
  {
   "cell_type": "code",
   "execution_count": 32,
   "source": [
    "FileIn = sys.argv[1]\n",
    "\n",
    "handle = open('/data/Poil_scaffold.fa', 'rU')\n",
    "SeqRecords = SeqIO.parse(handle, 'fasta')\n",
    "totalLenght = 0\n",
    "real_max = 0\n",
    "cur_max = 0\n",
    "for record in SeqRecords:   #loop through each fasta entry\n",
    "   length = len(record.seq)    #get sequence length\n",
    "   totalLenght += length\n",
    "   cur_max = length\n",
    "   if cur_max > real_max:\n",
    "      real_max = cur_max\n",
    "   #print(\"%s: %i bp\" % (record.id, length)) \n",
    "print(real_max)\n"
   ],
   "outputs": [
    {
     "output_type": "stream",
     "name": "stdout",
     "text": [
      "3833520\n"
     ]
    },
    {
     "output_type": "stream",
     "name": "stderr",
     "text": [
      "<ipython-input-32-d80d88df7f3f>:3: DeprecationWarning: 'U' mode is deprecated\n",
      "  handle = open('/Users/uliaandreeva/Downloads/nyc-taxi-trip-duration/data/Poil_scaffold.fa', 'rU')\n"
     ]
    }
   ],
   "metadata": {}
  },
  {
   "cell_type": "code",
   "execution_count": 25,
   "source": [
    "print(totalLenght)"
   ],
   "outputs": [
    {
     "output_type": "stream",
     "name": "stdout",
     "text": [
      "3872802\n"
     ]
    }
   ],
   "metadata": {}
  }
 ],
 "metadata": {
  "orig_nbformat": 4,
  "language_info": {
   "name": "python",
   "version": "3.8.5",
   "mimetype": "text/x-python",
   "codemirror_mode": {
    "name": "ipython",
    "version": 3
   },
   "pygments_lexer": "ipython3",
   "nbconvert_exporter": "python",
   "file_extension": ".py"
  },
  "kernelspec": {
   "name": "python3",
   "display_name": "Python 3.8.5 64-bit ('base': conda)"
  },
  "interpreter": {
   "hash": "fd5128ecab805675a97d006d75b0c11287d693eec82b5471605f84181c211ee1"
  }
 },
 "nbformat": 4,
 "nbformat_minor": 2
}